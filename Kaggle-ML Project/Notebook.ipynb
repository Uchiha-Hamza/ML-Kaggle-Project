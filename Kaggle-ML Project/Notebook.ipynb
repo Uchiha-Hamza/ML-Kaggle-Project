{
 "cells": [
  {
   "cell_type": "markdown",
   "metadata": {},
   "source": [
    "\n",
    "# <font color=red><div align=\"center\">Kaggle group project</div></font>\n",
    "\n",
    "## <font color=red><div align=\"center\">\"<em>mchach</em>\"</div></font>\n",
    "### <font color=red><div align=\"center\">17-02-2024</div></font>"
   ]
  },
  {
   "cell_type": "markdown",
   "metadata": {},
   "source": [
    "# Imported libararies"
   ]
  },
  {
   "cell_type": "code",
   "execution_count": 1,
   "metadata": {},
   "outputs": [],
   "source": [
    "import geopandas as gpd\n",
    "import pandas as pd\n",
    "import warnings\n",
    "from sklearn.preprocessing import LabelEncoder\n",
    "import numpy as np\n",
    "from sklearn.neighbors import KNeighborsClassifier\n",
    "from sklearn.metrics import accuracy_score\n",
    "import matplotlib.pyplot as plt\n"
   ]
  },
  {
   "cell_type": "markdown",
   "metadata": {},
   "source": [
    "# Data analysis"
   ]
  },
  {
   "cell_type": "markdown",
   "metadata": {},
   "source": [
    "## 1. Loading data\n",
    "Parsing huge geojson files is too much time consuming, that's why we decided to work with a csv format \\\n",
    "making loading and saving much faster."
   ]
  },
  {
   "cell_type": "code",
   "execution_count": 2,
   "metadata": {},
   "outputs": [],
   "source": [
    "# Try reading csv files if they exist\n",
    "try: \n",
    "    train_df=pd.read_csv('./train.csv')\n",
    "    test_df=pd.read_csv('./test.csv')\n",
    "# If csv format not available, parse the json files \n",
    "# and convert them to csv for the next execution\n",
    "except:\n",
    "    train_df = gpd.read_file('./train.geojson', index_col=0)\n",
    "    test_df = gpd.read_file('./test.geojson', index_col=0)\n",
    "\n",
    "    train_df.to_csv('./train.csv', index=False)\n",
    "    test_df.to_csv('./test.csv', index=False)"
   ]
  },
  {
   "cell_type": "markdown",
   "metadata": {},
   "source": [
    "## 2. Analyzing features and classes\n",
    "### Features\n",
    "The training dataset includes 296146 data points each with 44 attributes: \n",
    "- Irregular Polygon object: storing coordinates of points and from which area, perimeter, \\\n",
    "and other geometrical characteristics can be computed (useful for later) \n",
    "- *Neighbourhood urban features* (e.g., the polygon is in a dense urban and industrial region).\n",
    "- *Neighbourhood geographic features* (e.g., the polygon is near a river and a hill).\n",
    "- Data from five different snapshots with their respective dates: \n",
    "    - date of each snapshot\n",
    "    - Mean and standard deviation of the distribution of rgb colors at each date\n",
    "    - The status of the area at each date"
   ]
  },
  {
   "cell_type": "code",
   "execution_count": 3,
   "metadata": {},
   "outputs": [
    {
     "data": {
      "text/html": [
       "<div>\n",
       "<style scoped>\n",
       "    .dataframe tbody tr th:only-of-type {\n",
       "        vertical-align: middle;\n",
       "    }\n",
       "\n",
       "    .dataframe tbody tr th {\n",
       "        vertical-align: top;\n",
       "    }\n",
       "\n",
       "    .dataframe thead th {\n",
       "        text-align: right;\n",
       "    }\n",
       "</style>\n",
       "<table border=\"1\" class=\"dataframe\">\n",
       "  <thead>\n",
       "    <tr style=\"text-align: right;\">\n",
       "      <th></th>\n",
       "      <th>Unnamed: 0</th>\n",
       "      <th>urban_type</th>\n",
       "      <th>geography_type</th>\n",
       "      <th>change_type</th>\n",
       "      <th>img_red_mean_date1</th>\n",
       "      <th>img_green_mean_date1</th>\n",
       "      <th>img_blue_mean_date1</th>\n",
       "      <th>img_red_std_date1</th>\n",
       "      <th>img_green_std_date1</th>\n",
       "      <th>img_blue_std_date1</th>\n",
       "      <th>...</th>\n",
       "      <th>date1</th>\n",
       "      <th>change_status_date1</th>\n",
       "      <th>date2</th>\n",
       "      <th>change_status_date2</th>\n",
       "      <th>date3</th>\n",
       "      <th>change_status_date3</th>\n",
       "      <th>date4</th>\n",
       "      <th>change_status_date4</th>\n",
       "      <th>index</th>\n",
       "      <th>geometry</th>\n",
       "    </tr>\n",
       "  </thead>\n",
       "  <tbody>\n",
       "    <tr>\n",
       "      <th>0</th>\n",
       "      <td>0</td>\n",
       "      <td>Sparse Urban</td>\n",
       "      <td>Dense Forest,Grass Land</td>\n",
       "      <td>Road</td>\n",
       "      <td>93.371775</td>\n",
       "      <td>107.291113</td>\n",
       "      <td>89.827379</td>\n",
       "      <td>29.81204</td>\n",
       "      <td>28.328368</td>\n",
       "      <td>25.324294</td>\n",
       "      <td>...</td>\n",
       "      <td>09-12-2013</td>\n",
       "      <td>Greenland</td>\n",
       "      <td>10-09-2016</td>\n",
       "      <td>Construction Started</td>\n",
       "      <td>22-07-2019</td>\n",
       "      <td>Construction Done</td>\n",
       "      <td>24-07-2017</td>\n",
       "      <td>Construction Midway</td>\n",
       "      <td>0</td>\n",
       "      <td>POLYGON ((112.16774086470313 32.0219772550438,...</td>\n",
       "    </tr>\n",
       "  </tbody>\n",
       "</table>\n",
       "<p>1 rows × 46 columns</p>\n",
       "</div>"
      ],
      "text/plain": [
       "   Unnamed: 0    urban_type           geography_type change_type  \\\n",
       "0           0  Sparse Urban  Dense Forest,Grass Land        Road   \n",
       "\n",
       "   img_red_mean_date1  img_green_mean_date1  img_blue_mean_date1  \\\n",
       "0           93.371775            107.291113            89.827379   \n",
       "\n",
       "   img_red_std_date1  img_green_std_date1  img_blue_std_date1  ...  \\\n",
       "0           29.81204            28.328368           25.324294  ...   \n",
       "\n",
       "        date1  change_status_date1       date2   change_status_date2  \\\n",
       "0  09-12-2013            Greenland  10-09-2016  Construction Started   \n",
       "\n",
       "        date3  change_status_date3       date4  change_status_date4  index  \\\n",
       "0  22-07-2019    Construction Done  24-07-2017  Construction Midway      0   \n",
       "\n",
       "                                            geometry  \n",
       "0  POLYGON ((112.16774086470313 32.0219772550438,...  \n",
       "\n",
       "[1 rows x 46 columns]"
      ]
     },
     "execution_count": 3,
     "metadata": {},
     "output_type": "execute_result"
    }
   ],
   "source": [
    "train_df.head(1)"
   ]
  },
  {
   "cell_type": "markdown",
   "metadata": {},
   "source": [
    "### Features' distributions\n",
    "We thought it would be informative to get an idea of the features' distribution in the dataset.\\\n",
    "Not only can it be used for some models like Bayes/MAP, but it can also make us spot imblanaces in the data. \\"
   ]
  },
  {
   "cell_type": "code",
   "execution_count": 4,
   "metadata": {},
   "outputs": [
    {
     "data": {
      "image/png": "[encoded data removed]",
      "text/plain": [
       "<Figure size 1600x1000 with 6 Axes>"
      ]
     },
     "metadata": {},
     "output_type": "display_data"
    }
   ],
   "source": [
    "# Plotting the numerical values related to colors of date1\n",
    "mean_columns=['img_red_mean_date1','img_green_mean_date1','img_blue_mean_date1']\n",
    "std_columns=['img_red_std_date1','img_green_std_date1','img_blue_std_date1']\n",
    "colors=['Red', 'Green', 'Blue']\n",
    "\n",
    "plt.figure(figsize=(16, 10))\n",
    "for i in range(3):\n",
    "    # Plotting mean \n",
    "    plt.subplot(2, 3, i+1)\n",
    "    plt.hist(train_df[mean_columns[i]], bins=50, color=colors[i], edgecolor='black')\n",
    "    plt.xlabel(f'{mean_columns[i]}')\n",
    "    if i==0:\n",
    "        plt.ylabel('Frequency')\n",
    "    # Plotting standard deviation \n",
    "    plt.subplot(2, 3, i+4)\n",
    "    plt.hist(train_df[std_columns[i]], bins=50, color=colors[i], edgecolor='black')\n",
    "    plt.xlabel(f'{std_columns[i]}')\n",
    "    if i==0:\n",
    "        plt.ylabel('Frequency')"
   ]
  },
  {
   "cell_type": "markdown",
   "metadata": {},
   "source": [
    "### Classes\n",
    "The goal is to classify this snapshot data into 6 classes corresponding to their changing type: \\\n",
    "Demolition, Road, Residential, Commercial, Industrial, Mega Projects. \\\n",
    "The following is a code visulizing the frequency distribution of these classes.\n"
   ]
  },
  {
   "cell_type": "code",
   "execution_count": 5,
   "metadata": {},
   "outputs": [
    {
     "data": {
      "image/png": "[encoded data removed]",
      "text/plain": [
       "<Figure size 640x480 with 1 Axes>"
      ]
     },
     "metadata": {},
     "output_type": "display_data"
    }
   ],
   "source": [
    "change_type_map = {'Demolition': 0, 'Road': 1, 'Residential': 2, 'Commercial': 3, 'Industrial': 4,\n",
    "                   'Mega Projects': 5}\n",
    "\n",
    "y_train = train_df['change_type'].apply(lambda x: change_type_map[x])\n",
    "\n",
    "# Calculate the frequency of each class\n",
    "classes_counts = y_train.value_counts()\n",
    "# Plot a bar plot\n",
    "classes_counts.plot(kind='bar', color='skyblue')\n",
    "\n",
    "# Add labels and title\n",
    "plt.xlabel('classes')\n",
    "plt.ylabel('Frequency')\n",
    "plt.title('Frequence of classes in train data')\n",
    "\n",
    "# Show the plot\n",
    "plt.show()"
   ]
  },
  {
   "cell_type": "markdown",
   "metadata": {},
   "source": [
    "## 3. Remarks and conclusions\n",
    "Taking a closer look at the features presented, there are few properties that come to mind:\n",
    "- There are a few NA values.\n",
    "- Some categorical features like *urban_type* involve combinations of different categories.\n",
    "- Polygons are listed as abstract objects.\n",
    "- Dates are in object format.\n",
    "- Dates & dated features like *change_status_date* are not ordered row <b>and</b> column wise.\n",
    "- Numerical features have gaussian distributions.\n",
    "- Representations of different classes is imbalanced : *Residential* and *Commercial* types dominate the dataset."
   ]
  },
  {
   "cell_type": "markdown",
   "metadata": {},
   "source": [
    "# Data Processing\n",
    "Any processing done to the training data has to be done to the test data as well,\\\n",
    "that's why it's better to write general functions instead of reapeating the code twice."
   ]
  },
  {
   "cell_type": "markdown",
   "metadata": {},
   "source": [
    "## 1. Label encoding\n",
    "Turning categorical features into integer labels can be necessary for some models like *Neural Networks*, \\\n",
    "and makes categorical features that involve different combinations easier to handle in the case of *ubran_type* as an example."
   ]
  },
  {
   "cell_type": "code",
   "execution_count": 6,
   "metadata": {},
   "outputs": [],
   "source": [
    "def encode_labels(df):\n",
    "    \"\"\"\n",
    "    Takes in a train or test dataframe df, and does the following:\n",
    "    1. Expands urban_types and geography_types into boolean attributes (0 or 1)\n",
    "    2. Encodes change_status_date as integer lablels (classes 0,1,2..etc)\n",
    "    3. Drops old columns and concatenates new ones to the dataframe\n",
    "    4. Returns a dataframe where categorical features are now numerically labeled\n",
    "    \"\"\"\n",
    "    \n",
    "    boolean_categories = [\"urban_type\", \"geography_type\"]\n",
    "    for label in boolean_categories:\n",
    "        # Splits combinations of types\n",
    "        seperated_attributes = df[label].str.get_dummies(sep=',')\n",
    "        full_df = pd.concat([seperated_attributes, df], axis=1)\n",
    "        df = full_df.drop(label, axis=1)\n",
    "\n",
    "    # Labeling change_status_dates \n",
    "    encoded_columns = [f'change_status_date{i}' for i in range(5)]\n",
    "    change_status_map={}\n",
    "    i=0\n",
    "    for cat in encoded_columns:\n",
    "        s=df[cat].unique()\n",
    "        for val in s:\n",
    "            if val not in change_status_map:\n",
    "                change_status_map[val]=i\n",
    "                i+=1\n",
    "    for cat in encoded_columns:\n",
    "        df[cat]=df[cat].apply(lambda x:change_status_map[x])\n",
    "    return df"
   ]
  },
  {
   "cell_type": "markdown",
   "metadata": {},
   "source": [
    "### Visualizing the encoding"
   ]
  },
  {
   "cell_type": "code",
   "execution_count": 7,
   "metadata": {},
   "outputs": [
    {
     "name": "stdout",
     "output_type": "stream",
     "text": [
      "Categorical Columns\n"
     ]
    },
    {
     "data": {
      "text/html": [
       "<div>\n",
       "<style scoped>\n",
       "    .dataframe tbody tr th:only-of-type {\n",
       "        vertical-align: middle;\n",
       "    }\n",
       "\n",
       "    .dataframe tbody tr th {\n",
       "        vertical-align: top;\n",
       "    }\n",
       "\n",
       "    .dataframe thead th {\n",
       "        text-align: right;\n",
       "    }\n",
       "</style>\n",
       "<table border=\"1\" class=\"dataframe\">\n",
       "  <thead>\n",
       "    <tr style=\"text-align: right;\">\n",
       "      <th></th>\n",
       "      <th>Unnamed: 0</th>\n",
       "      <th>urban_type</th>\n",
       "      <th>geography_type</th>\n",
       "      <th>change_type</th>\n",
       "      <th>img_red_mean_date1</th>\n",
       "      <th>img_green_mean_date1</th>\n",
       "      <th>img_blue_mean_date1</th>\n",
       "      <th>img_red_std_date1</th>\n",
       "      <th>img_green_std_date1</th>\n",
       "      <th>img_blue_std_date1</th>\n",
       "      <th>...</th>\n",
       "      <th>date1</th>\n",
       "      <th>change_status_date1</th>\n",
       "      <th>date2</th>\n",
       "      <th>change_status_date2</th>\n",
       "      <th>date3</th>\n",
       "      <th>change_status_date3</th>\n",
       "      <th>date4</th>\n",
       "      <th>change_status_date4</th>\n",
       "      <th>index</th>\n",
       "      <th>geometry</th>\n",
       "    </tr>\n",
       "  </thead>\n",
       "  <tbody>\n",
       "    <tr>\n",
       "      <th>0</th>\n",
       "      <td>0</td>\n",
       "      <td>Sparse Urban</td>\n",
       "      <td>Dense Forest,Grass Land</td>\n",
       "      <td>Road</td>\n",
       "      <td>93.371775</td>\n",
       "      <td>107.291113</td>\n",
       "      <td>89.827379</td>\n",
       "      <td>29.81204</td>\n",
       "      <td>28.328368</td>\n",
       "      <td>25.324294</td>\n",
       "      <td>...</td>\n",
       "      <td>09-12-2013</td>\n",
       "      <td>Greenland</td>\n",
       "      <td>10-09-2016</td>\n",
       "      <td>Construction Started</td>\n",
       "      <td>22-07-2019</td>\n",
       "      <td>Construction Done</td>\n",
       "      <td>24-07-2017</td>\n",
       "      <td>Construction Midway</td>\n",
       "      <td>0</td>\n",
       "      <td>POLYGON ((112.16774086470313 32.0219772550438,...</td>\n",
       "    </tr>\n",
       "  </tbody>\n",
       "</table>\n",
       "<p>1 rows × 46 columns</p>\n",
       "</div>"
      ],
      "text/plain": [
       "   Unnamed: 0    urban_type           geography_type change_type  \\\n",
       "0           0  Sparse Urban  Dense Forest,Grass Land        Road   \n",
       "\n",
       "   img_red_mean_date1  img_green_mean_date1  img_blue_mean_date1  \\\n",
       "0           93.371775            107.291113            89.827379   \n",
       "\n",
       "   img_red_std_date1  img_green_std_date1  img_blue_std_date1  ...  \\\n",
       "0           29.81204            28.328368           25.324294  ...   \n",
       "\n",
       "        date1  change_status_date1       date2   change_status_date2  \\\n",
       "0  09-12-2013            Greenland  10-09-2016  Construction Started   \n",
       "\n",
       "        date3  change_status_date3       date4  change_status_date4  index  \\\n",
       "0  22-07-2019    Construction Done  24-07-2017  Construction Midway      0   \n",
       "\n",
       "                                            geometry  \n",
       "0  POLYGON ((112.16774086470313 32.0219772550438,...  \n",
       "\n",
       "[1 rows x 46 columns]"
      ]
     },
     "execution_count": 7,
     "metadata": {},
     "output_type": "execute_result"
    }
   ],
   "source": [
    "categorical=[\"urban_type\", \"geography_type\"]+[f\"change_status_date{i}\" for i in range(5)]\n",
    "print('Categorical Columns')\n",
    "train_df.head(1)"
   ]
  },
  {
   "cell_type": "code",
   "execution_count": 8,
   "metadata": {},
   "outputs": [
    {
     "name": "stdout",
     "output_type": "stream",
     "text": [
      "Encoded Columns\n"
     ]
    },
    {
     "data": {
      "text/html": [
       "<div>\n",
       "<style scoped>\n",
       "    .dataframe tbody tr th:only-of-type {\n",
       "        vertical-align: middle;\n",
       "    }\n",
       "\n",
       "    .dataframe tbody tr th {\n",
       "        vertical-align: top;\n",
       "    }\n",
       "\n",
       "    .dataframe thead th {\n",
       "        text-align: right;\n",
       "    }\n",
       "</style>\n",
       "<table border=\"1\" class=\"dataframe\">\n",
       "  <thead>\n",
       "    <tr style=\"text-align: right;\">\n",
       "      <th></th>\n",
       "      <th>Dense Forest</th>\n",
       "      <th>Grass Land</th>\n",
       "      <th>Sparse Urban</th>\n",
       "      <th>Unnamed: 0</th>\n",
       "      <th>change_type</th>\n",
       "      <th>img_red_mean_date1</th>\n",
       "      <th>img_green_mean_date1</th>\n",
       "      <th>img_blue_mean_date1</th>\n",
       "      <th>img_red_std_date1</th>\n",
       "      <th>img_green_std_date1</th>\n",
       "      <th>...</th>\n",
       "      <th>date1</th>\n",
       "      <th>change_status_date1</th>\n",
       "      <th>date2</th>\n",
       "      <th>change_status_date2</th>\n",
       "      <th>date3</th>\n",
       "      <th>change_status_date3</th>\n",
       "      <th>date4</th>\n",
       "      <th>change_status_date4</th>\n",
       "      <th>index</th>\n",
       "      <th>geometry</th>\n",
       "    </tr>\n",
       "  </thead>\n",
       "  <tbody>\n",
       "    <tr>\n",
       "      <th>0</th>\n",
       "      <td>1</td>\n",
       "      <td>1</td>\n",
       "      <td>1</td>\n",
       "      <td>0</td>\n",
       "      <td>Road</td>\n",
       "      <td>93.371775</td>\n",
       "      <td>107.291113</td>\n",
       "      <td>89.827379</td>\n",
       "      <td>29.81204</td>\n",
       "      <td>28.328368</td>\n",
       "      <td>...</td>\n",
       "      <td>09-12-2013</td>\n",
       "      <td>1</td>\n",
       "      <td>10-09-2016</td>\n",
       "      <td>2</td>\n",
       "      <td>22-07-2019</td>\n",
       "      <td>0</td>\n",
       "      <td>24-07-2017</td>\n",
       "      <td>3</td>\n",
       "      <td>0</td>\n",
       "      <td>POLYGON ((112.16774086470313 32.0219772550438,...</td>\n",
       "    </tr>\n",
       "  </tbody>\n",
       "</table>\n",
       "<p>1 rows × 47 columns</p>\n",
       "</div>"
      ],
      "text/plain": [
       "   Dense Forest  Grass Land  Sparse Urban  Unnamed: 0 change_type  \\\n",
       "0             1           1             1           0        Road   \n",
       "\n",
       "   img_red_mean_date1  img_green_mean_date1  img_blue_mean_date1  \\\n",
       "0           93.371775            107.291113            89.827379   \n",
       "\n",
       "   img_red_std_date1  img_green_std_date1  ...       date1  \\\n",
       "0           29.81204            28.328368  ...  09-12-2013   \n",
       "\n",
       "   change_status_date1       date2  change_status_date2       date3  \\\n",
       "0                    1  10-09-2016                    2  22-07-2019   \n",
       "\n",
       "   change_status_date3       date4  change_status_date4  index  \\\n",
       "0                    0  24-07-2017                    3      0   \n",
       "\n",
       "                                            geometry  \n",
       "0  POLYGON ((112.16774086470313 32.0219772550438,...  \n",
       "\n",
       "[1 rows x 47 columns]"
      ]
     },
     "execution_count": 8,
     "metadata": {},
     "output_type": "execute_result"
    }
   ],
   "source": [
    "print(\"Encoded Columns\")\n",
    "test=train_df.head(1)\n",
    "test=encode_labels(test)\n",
    "test"
   ]
  },
  {
   "cell_type": "markdown",
   "metadata": {},
   "source": [
    "## 2. Managing dates\n",
    "This part constitutes the bulk of data processing where we will preform the following:\\\n",
    "1- Change the format of dates to datetime \\\n",
    "2- Order the dates and corresponding columns \\\n",
    "3- Compute the time interval between snapshots \\\n",
    "\\\n",
    "The latter turned out to be quite useful and it comes down to basic intuition: to predict types of construction,\\\n",
    "time intervals between snapshots is way more useful to the classifier than plain dates."
   ]
  },
  {
   "cell_type": "code",
   "execution_count": 9,
   "metadata": {},
   "outputs": [],
   "source": [
    "# Defining list of date columns e.g ['date1', 'date2'...]\n",
    "dates_columns = [col for col in train_df.columns if col.startswith('date')]\n",
    "# Defining a lists of dates and their corresponding features \n",
    "# [[features at date1],[features at date2]...]\n",
    "dated_columns = [[f'date{x}', f'change_status_date{x}'] for x in range(5)]\n",
    "for i in range(5):\n",
    "    foo = [col for col in train_df.columns if col.startswith('img_')]\n",
    "    dated_columns[i] += [col for col in foo if col.endswith(f'date{i+1}')]\n",
    "\n",
    "# Ordering date values in a row\n",
    "def order_row(row):\n",
    "    \"\"\"\n",
    "    Takes in a row, reads dated values\n",
    "    and returns a row that is sorted by date\n",
    "    \"\"\"\n",
    "\n",
    "    # Reading and storing dated columns' values\n",
    "    values = []\n",
    "    for date in dated_columns:\n",
    "        date_values = []\n",
    "        for col in date:\n",
    "            date_values.append(row[col])\n",
    "        values.append(date_values)\n",
    "\n",
    "    # Ordering values by date\n",
    "    values = sorted(values, key=lambda x: x[0])\n",
    "\n",
    "    # Reinserting ordered values\n",
    "    for i in range(5):\n",
    "        date = dated_columns[i]\n",
    "        for j in range(len(date)):\n",
    "            col = date[j]\n",
    "            row[col] = values[i][j]\n",
    "    return row\n",
    "\n",
    "def transform_dates(df):\n",
    "    \"\"\"\n",
    "    Takes a dataframe, and does the following:\n",
    "    1. Turn dates into datetime\n",
    "    2. Order dates and corresponding features \n",
    "    3. Compute the time intervals between each snapshot\n",
    "    4. Drops dates\n",
    "    5. Returns a dataframe with a reference date t0 and time intervals columns added\n",
    "    \"\"\"\n",
    "    # Turning dates into datetime\n",
    "    _ = df[dates_columns].apply(\n",
    "        lambda col: pd.to_datetime(col, format='%d-%m-%Y'))\n",
    "    df[dates_columns]=_\n",
    "    \n",
    "    \n",
    "    # Ordering the dataframe\n",
    "    df = df.apply(order_row, axis=1)\n",
    "\n",
    "    # Setting a reference date older than all dates\n",
    "    date_ref = pd.to_datetime(\n",
    "        pd.Series(['01-01-2000'] * len(df)), format='%d-%m-%Y')\n",
    "    \n",
    "    # Compute difference of consecutive dates to get time intervals\n",
    "    # While treating the None values\n",
    "    for i in range(len(dates_columns)-1):\n",
    "        try:\n",
    "            df[f'delta{i+1}'] = (df[f'date{i+1}']-df[f'date{i}']).dt.days/365\n",
    "        except: \n",
    "            df[f'delta{i+1}'] = None\n",
    "    try:\n",
    "        df['t0'] = (df['date0']-date_ref).dt.days/365\n",
    "    except:\n",
    "        df['t0'] = None\n",
    "\n",
    "    # Dropping dates\n",
    "    for date in dates_columns:\n",
    "        df=df.drop(date, axis=1) \n",
    "    return df"
   ]
  },
  {
   "cell_type": "markdown",
   "metadata": {},
   "source": [
    "### Visulizing sorted dates"
   ]
  },
  {
   "cell_type": "code",
   "execution_count": 10,
   "metadata": {},
   "outputs": [
    {
     "name": "stdout",
     "output_type": "stream",
     "text": [
      "Unsorted dates\n"
     ]
    },
    {
     "data": {
      "text/html": [
       "<div>\n",
       "<style scoped>\n",
       "    .dataframe tbody tr th:only-of-type {\n",
       "        vertical-align: middle;\n",
       "    }\n",
       "\n",
       "    .dataframe tbody tr th {\n",
       "        vertical-align: top;\n",
       "    }\n",
       "\n",
       "    .dataframe thead th {\n",
       "        text-align: right;\n",
       "    }\n",
       "</style>\n",
       "<table border=\"1\" class=\"dataframe\">\n",
       "  <thead>\n",
       "    <tr style=\"text-align: right;\">\n",
       "      <th></th>\n",
       "      <th>date0</th>\n",
       "      <th>date1</th>\n",
       "      <th>date2</th>\n",
       "      <th>date3</th>\n",
       "      <th>date4</th>\n",
       "      <th>change_status_date0</th>\n",
       "    </tr>\n",
       "  </thead>\n",
       "  <tbody>\n",
       "    <tr>\n",
       "      <th>0</th>\n",
       "      <td>01-08-2018</td>\n",
       "      <td>09-12-2013</td>\n",
       "      <td>10-09-2016</td>\n",
       "      <td>22-07-2019</td>\n",
       "      <td>24-07-2017</td>\n",
       "      <td>Construction Done</td>\n",
       "    </tr>\n",
       "  </tbody>\n",
       "</table>\n",
       "</div>"
      ],
      "text/plain": [
       "        date0       date1       date2       date3       date4  \\\n",
       "0  01-08-2018  09-12-2013  10-09-2016  22-07-2019  24-07-2017   \n",
       "\n",
       "  change_status_date0  \n",
       "0   Construction Done  "
      ]
     },
     "execution_count": 10,
     "metadata": {},
     "output_type": "execute_result"
    }
   ],
   "source": [
    "print(\"Unsorted dates\")\n",
    "test=train_df.head(1)\n",
    "test[dates_columns+[dated_columns[0][1]]]"
   ]
  },
  {
   "cell_type": "code",
   "execution_count": 11,
   "metadata": {},
   "outputs": [
    {
     "name": "stdout",
     "output_type": "stream",
     "text": [
      "Transformed dates and duration of changes\n"
     ]
    },
    {
     "data": {
      "text/html": [
       "<div>\n",
       "<style scoped>\n",
       "    .dataframe tbody tr th:only-of-type {\n",
       "        vertical-align: middle;\n",
       "    }\n",
       "\n",
       "    .dataframe tbody tr th {\n",
       "        vertical-align: top;\n",
       "    }\n",
       "\n",
       "    .dataframe thead th {\n",
       "        text-align: right;\n",
       "    }\n",
       "</style>\n",
       "<table border=\"1\" class=\"dataframe\">\n",
       "  <thead>\n",
       "    <tr style=\"text-align: right;\">\n",
       "      <th></th>\n",
       "      <th>t0</th>\n",
       "      <th>delta1</th>\n",
       "      <th>delta2</th>\n",
       "      <th>delta3</th>\n",
       "      <th>delta4</th>\n",
       "      <th>change_status_date0</th>\n",
       "    </tr>\n",
       "  </thead>\n",
       "  <tbody>\n",
       "    <tr>\n",
       "      <th>0</th>\n",
       "      <td>13.947945</td>\n",
       "      <td>2.756164</td>\n",
       "      <td>0.868493</td>\n",
       "      <td>1.021918</td>\n",
       "      <td>0.972603</td>\n",
       "      <td>Greenland</td>\n",
       "    </tr>\n",
       "  </tbody>\n",
       "</table>\n",
       "</div>"
      ],
      "text/plain": [
       "          t0    delta1    delta2    delta3    delta4 change_status_date0\n",
       "0  13.947945  2.756164  0.868493  1.021918  0.972603           Greenland"
      ]
     },
     "execution_count": 11,
     "metadata": {},
     "output_type": "execute_result"
    }
   ],
   "source": [
    "print(\"Transformed dates and duration of changes\")\n",
    "with warnings.catch_warnings():\n",
    "    warnings.simplefilter('ignore')\n",
    "    test=transform_dates(test)\n",
    "test[['t0']+[f'delta{i}' for i in range(1,5)]+[dated_columns[0][1]]]"
   ]
  },
  {
   "cell_type": "markdown",
   "metadata": {},
   "source": [
    "## 3. Extracting new features from Polygons\n",
    "Given we can't train with abstract class objects like Polygons, we need to extract \\\n",
    "real valued information from them. To conserve as much as we can, we decided to create \\\n",
    "new columns of every geometrical proprety : \n",
    "- Area\n",
    "- Perimeter\n",
    "- Centroid_x (longetitude)\n",
    "- Centroid_y (latitude)\n",
    "- Number of sides"
   ]
  },
  {
   "cell_type": "code",
   "execution_count": 12,
   "metadata": {},
   "outputs": [],
   "source": [
    "def extract_geometry(df):\n",
    "    polygons = gpd.GeoSeries.from_wkt(df[\"geometry\"])\n",
    "    area = polygons.apply(lambda x: x.area)\n",
    "    centroid_x = polygons.apply(lambda x: x.centroid.x)\n",
    "    centroid_y = polygons.apply(lambda x: x.centroid.y)\n",
    "    perimeter = polygons.apply(lambda x: x.length)\n",
    "    n_sides = polygons.apply(lambda x: len(x.exterior.coords))\n",
    "    df['area'] = area\n",
    "    df['centroid_x'] = centroid_x\n",
    "    df['centroid_y'] = centroid_y\n",
    "    df['perimeter'] = perimeter\n",
    "    df['n_sides'] = n_sides\n",
    "    df=df.drop('geometry', axis=1)\n",
    "    return df"
   ]
  },
  {
   "cell_type": "markdown",
   "metadata": {},
   "source": [
    "## 4. Data cleaning : dealing with NA values\n",
    "After all the transformations done above, our dataset is still messy due to None values \\\n",
    "and literal 'N,A' categories that spawn new columns 'N' and 'A' after our label encoding. \\\n",
    "\\\n",
    "Both testing data and training data have these *holes* in them, e.i data points which don't contain \\\n",
    "all the features, given we need to produce results even with these data points we decided it's better to \\\n",
    "fill in the gaps with averages of each column and drop unimportant columns to not interfer with training."
   ]
  },
  {
   "cell_type": "code",
   "execution_count": 13,
   "metadata": {},
   "outputs": [],
   "source": [
    "def cleanup(df):\n",
    "    ToBeDropped=['Unnamed: 0', 'index', 'N', 'A']\n",
    "    for col in ToBeDropped:\n",
    "        if col in df.columns:\n",
    "            df=df.drop(col, axis=1)\n",
    "    # Labeling classes in case of train dataframe\n",
    "    if 'change_type' in df.columns: \n",
    "        df['change_type']=df['change_type'].apply(lambda x : change_type_map[x])\n",
    "    # Filling na\n",
    "    df=df.fillna((df.mean()))\n",
    "    return df"
   ]
  },
  {
   "cell_type": "markdown",
   "metadata": {},
   "source": [
    "## Processed datasets\n",
    "Applying all these steps to process each of the train and test dataframes makes us \\\n",
    "ready to train some models and get results."
   ]
  },
  {
   "cell_type": "code",
   "execution_count": null,
   "metadata": {},
   "outputs": [],
   "source": [
    "def process(df):\n",
    "    df=encode_labels(df)\n",
    "    df=transform_dates(df)\n",
    "    df=extract_geometry(df)\n",
    "    df=cleanup(df)\n",
    "    return df\n",
    "train_df=process(train_df)\n",
    "test_df=process(test_df)\n",
    "train_df.head(5)"
   ]
  },
  {
   "cell_type": "markdown",
   "metadata": {},
   "source": [
    "# Training models\n",
    "Given that this is a non-linear classification problem, we decided to test the following 3 models."
   ]
  },
  {
   "cell_type": "markdown",
   "metadata": {},
   "source": [
    "## 1. K-Nearest Neighbhors "
   ]
  },
  {
   "cell_type": "code",
   "execution_count": null,
   "metadata": {},
   "outputs": [],
   "source": [
    "train_x_nn = np.asarray(train_df.drop(columns=['change_type']))\n",
    "train_y_nn = train_df['change_type']\n",
    "test_x_nn = np.asarray(test_df)"
   ]
  },
  {
   "cell_type": "code",
   "execution_count": null,
   "metadata": {},
   "outputs": [],
   "source": [
    "neigh = KNeighborsClassifier(n_neighbors=3)\n",
    "neigh.fit(train_x_nn, train_y_nn)\n",
    "pred_y = neigh.predict(test_x_nn)\n",
    "print (pred_y.shape)"
   ]
  },
  {
   "cell_type": "code",
   "execution_count": null,
   "metadata": {},
   "outputs": [],
   "source": [
    "## Save results to submission file\n",
    "pred_df = pd.DataFrame(pred_y, columns=['change_type'])\n",
    "pred_df.to_csv(\"knn_sample_submission_ouench.csv\", index=True, index_label='Id')"
   ]
  },
  {
   "cell_type": "code",
   "execution_count": null,
   "metadata": {},
   "outputs": [],
   "source": [
    "from sklearn.model_selection import train_test_split, cross_val_score\n",
    "\n",
    "# Data\n",
    "train_x_nn = np.asarray(train_df.drop(columns=['change_type']))\n",
    "train_y_nn = train_df['change_type']\n",
    "test_x_nn = np.asarray(test_df)\n",
    "\n",
    "# Split data into training and validation sets\n",
    "X_train, X_val, y_train, y_val = train_test_split(train_x_nn, train_y_nn, test_size=0.2, random_state=42)\n",
    "\n",
    "# Define the range of k values\n",
    "min_k = 3\n",
    "max_k = int(np.sqrt(len(train_df)))\n",
    "\n",
    "# Number of k values to select\n",
    "num_k_values = 10  # Choose how many k values you want to try\n",
    "\n",
    "# Randomly select k values\n",
    "random_k_values = np.random.randint(min_k, max_k + 1, size=num_k_values)\n",
    "random_k_values = np.concatenate((random_k_values, [max_k]))\n",
    "\n",
    "# Find the best k value among the randomly selected values\n",
    "best_score = 0\n",
    "best_k = 0\n",
    "for k in random_k_values:\n",
    "    neigh = KNeighborsClassifier(n_neighbors=k)\n",
    "    scores = cross_val_score(neigh, X_train, y_train, cv=5)  # 5-fold cross-validation\n",
    "    mean_score = np.mean(scores)\n",
    "    if mean_score > best_score:\n",
    "        best_score = mean_score\n",
    "        best_k = k\n",
    "\n",
    "print(\"Best k found:\", best_k)\n",
    "\n",
    "# Train the model with the best k value\n",
    "best_neigh = KNeighborsClassifier(n_neighbors=best_k)\n",
    "best_neigh.fit(X_train, y_train)\n",
    "\n",
    "# Predict on the test set\n",
    "pred_y = best_neigh.predict(test_x_nn)\n",
    "print(pred_y.shape)\n",
    "\n",
    "# Save the results to a submission file\n",
    "pred_df = pd.DataFrame(pred_y, columns=['change_type'])\n",
    "pred_df.to_csv(\"../results/knn_sample_submission_ouench.csv\", index=True, index_label='Id')\n"
   ]
  },
  {
   "cell_type": "markdown",
   "metadata": {},
   "source": [
    "## 2. Random forest"
   ]
  },
  {
   "cell_type": "markdown",
   "metadata": {},
   "source": [
    "**Applying Random Forest classifier using default parameters**"
   ]
  },
  {
   "cell_type": "code",
   "execution_count": 44,
   "metadata": {},
   "outputs": [],
   "source": [
    "import pandas as pd\n",
    "from sklearn.model_selection import train_test_split\n",
    "from sklearn.ensemble import RandomForestClassifier\n",
    "from sklearn.metrics import f1_score\n",
    "\n",
    "data = train_df.copy()\n",
    "\n",
    "# split the data into features X_train and target variable y_train\n",
    "\n",
    "X_train = data.drop(['change_type'], axis=1)\n",
    "y_train = data['change_type']\n",
    "\n",
    "# define test features X_test\n",
    "\n",
    "X_test = test_df\n",
    "\n",
    "\n",
    "# Initialize the Random Forest classifier using default parameter \n",
    "rf_classifier = RandomForestClassifier(random_state=42)\n",
    "\n",
    "# Train the model on the training data\n",
    "rf_classifier.fit(X_train, y_train)\n",
    "\n",
    "# Predict the target variable on the test data\n",
    "y_pred = rf_classifier.predict(X_test)\n",
    "\n"
   ]
  },
  {
   "cell_type": "code",
   "execution_count": 47,
   "metadata": {},
   "outputs": [],
   "source": [
    "pred_df = pd.DataFrame(y_pred, columns=['change_type'])\n",
    "pred_df.to_csv(\"RF_sample_submission.csv\", index=True, index_label='Id')"
   ]
  },
  {
   "cell_type": "markdown",
   "metadata": {},
   "source": [
    "Accuracy : 0.97185"
   ]
  },
  {
   "cell_type": "markdown",
   "metadata": {},
   "source": [
    "**Oversampling & Undersampling Train data**\n",
    "\n",
    "We have unbalanced classes, hence we will try to balance data to increase accuracy hopefully"
   ]
  },
  {
   "cell_type": "code",
   "execution_count": 28,
   "metadata": {},
   "outputs": [],
   "source": [
    "from imblearn.over_sampling import RandomOverSampler\n",
    "from imblearn.under_sampling import RandomUnderSampler"
   ]
  },
  {
   "cell_type": "code",
   "execution_count": 29,
   "metadata": {},
   "outputs": [],
   "source": [
    "data = train_df.copy()\n",
    "\n",
    "# split the data into features X_train and target variable y_train\n",
    "\n",
    "X_train = data.drop(['change_type'], axis=1)\n",
    "y_train = data['change_type']"
   ]
  },
  {
   "cell_type": "code",
   "execution_count": 30,
   "metadata": {},
   "outputs": [],
   "source": [
    "ros = RandomOverSampler(random_state=0)\n",
    "ros.fit(X_train, y_train)\n",
    "X_train_os, y_train_os = ros.fit_resample(X_train, y_train)"
   ]
  },
  {
   "cell_type": "code",
   "execution_count": 31,
   "metadata": {},
   "outputs": [
    {
     "data": {
      "image/png": "[encoded data removed]",
      "text/plain": [
       "<Figure size 640x480 with 1 Axes>"
      ]
     },
     "metadata": {},
     "output_type": "display_data"
    }
   ],
   "source": [
    "# Calculate the frequency of each class\n",
    "classes_counts_os = y_train_os.value_counts()\n",
    "# Plot a bar plot\n",
    "classes_counts_os.plot(kind='bar', color='skyblue')\n",
    "\n",
    "# Add labels and title\n",
    "plt.xlabel('classes')\n",
    "plt.ylabel('Frequency')\n",
    "plt.title('Frequence of classes in train data oversampled')\n",
    "\n",
    "# Show the plot\n",
    "plt.show()"
   ]
  },
  {
   "cell_type": "code",
   "execution_count": 32,
   "metadata": {},
   "outputs": [],
   "source": [
    "rus = RandomUnderSampler(random_state=0)\n",
    "rus.fit(X_train, y_train)\n",
    "X_train_us, y_train_us = rus.fit_resample(X_train, y_train)"
   ]
  },
  {
   "cell_type": "code",
   "execution_count": 33,
   "metadata": {},
   "outputs": [
    {
     "data": {
      "image/png": "[encoded data removed]",
      "text/plain": [
       "<Figure size 640x480 with 1 Axes>"
      ]
     },
     "metadata": {},
     "output_type": "display_data"
    }
   ],
   "source": [
    "# Calculate the frequency of each class\n",
    "classes_counts_us = y_train_us.value_counts()\n",
    "# Plot a bar plot\n",
    "classes_counts_us.plot(kind='bar', color='skyblue')\n",
    "\n",
    "# Add labels and title\n",
    "plt.xlabel('classes')\n",
    "plt.ylabel('Frequency')\n",
    "plt.title('Frequence of classes in train data undersampled')\n",
    "\n",
    "# Show the plot\n",
    "plt.show()"
   ]
  },
  {
   "cell_type": "markdown",
   "metadata": {},
   "source": [
    "**Random Forest with Undersampled train data**"
   ]
  },
  {
   "cell_type": "code",
   "execution_count": 35,
   "metadata": {},
   "outputs": [],
   "source": [
    "from sklearn.ensemble import RandomForestClassifier\n",
    "\n",
    "\n",
    "# define test features X_test\n",
    "\n",
    "X_test = test_df\n",
    "\n",
    "\n",
    "# Initialize the Random Forest classifier using default parameter \n",
    "rf_classifier_us = RandomForestClassifier(random_state=42)\n",
    "\n",
    "# Train the model on the training data\n",
    "rf_classifier_us.fit(X_train_us, y_train_us)\n",
    "\n",
    "# Predict the target variable on the test data\n",
    "y_pred_us = rf_classifier_us.predict(X_test)\n"
   ]
  },
  {
   "cell_type": "code",
   "execution_count": 37,
   "metadata": {},
   "outputs": [],
   "source": [
    "pred_df_us = pd.DataFrame(y_pred_us, columns=['change_type'])\n",
    "pred_df_us.to_csv(\"RF_us_sample_submission.csv\", index=True, index_label='Id')"
   ]
  },
  {
   "cell_type": "markdown",
   "metadata": {},
   "source": [
    "We get a very poor accuracy 0.2153"
   ]
  },
  {
   "cell_type": "markdown",
   "metadata": {},
   "source": [
    "**Random Forest with Oversampled train data**"
   ]
  },
  {
   "cell_type": "code",
   "execution_count": 38,
   "metadata": {},
   "outputs": [],
   "source": [
    "from sklearn.ensemble import RandomForestClassifier\n",
    "\n",
    "\n",
    "# define test features X_test\n",
    "\n",
    "X_test = test_df\n",
    "\n",
    "\n",
    "# Initialize the Random Forest classifier using default parameter \n",
    "rf_classifier_os = RandomForestClassifier(random_state=42)\n",
    "\n",
    "# Train the model on the training data\n",
    "rf_classifier_os.fit(X_train_os, y_train_os)\n",
    "\n",
    "# Predict the target variable on the test data\n",
    "y_pred_os = rf_classifier_os.predict(X_test)"
   ]
  },
  {
   "cell_type": "code",
   "execution_count": 39,
   "metadata": {},
   "outputs": [],
   "source": [
    "pred_df_os = pd.DataFrame(y_pred_os, columns=['change_type'])\n",
    "pred_df_os.to_csv(\"RF_os_sample_submission.csv\", index=True, index_label='Id')"
   ]
  },
  {
   "cell_type": "markdown",
   "metadata": {},
   "source": [
    "Accuracy 0.61669"
   ]
  },
  {
   "cell_type": "markdown",
   "metadata": {},
   "source": [
    "**Predictive features in Random Forest**"
   ]
  },
  {
   "cell_type": "code",
   "execution_count": 48,
   "metadata": {},
   "outputs": [],
   "source": [
    "import time\n",
    "import numpy as np\n",
    "\n",
    "feature_names = X_train.columns\n",
    "importances = rf_classifier.feature_importances_\n",
    "std = np.std([tree.feature_importances_ for tree in rf_classifier.estimators_], axis=0)\n"
   ]
  },
  {
   "cell_type": "code",
   "execution_count": 49,
   "metadata": {},
   "outputs": [
    {
     "data": {
      "image/png": "[encoded data removed]",
      "text/plain": [
       "<Figure size 640x480 with 1 Axes>"
      ]
     },
     "metadata": {},
     "output_type": "display_data"
    }
   ],
   "source": [
    "import pandas as pd\n",
    "\n",
    "clf_importances = pd.Series(importances, index=feature_names)\n",
    "\n",
    "fig, ax = plt.subplots()\n",
    "clf_importances.plot.bar()\n",
    "ax.set_title(\"Feature importances using MDI\")\n",
    "ax.set_ylabel(\"Mean decrease in impurity\")\n",
    "fig.tight_layout()"
   ]
  },
  {
   "cell_type": "code",
   "execution_count": null,
   "metadata": {},
   "outputs": [],
   "source": [
    "\n",
    "from sklearn.ensemble import RandomForestClassifier\n",
    "\n",
    "X_train_new = data[['img_red_mean_date1', 'img_green_mean_date1',\n",
    "       'img_blue_mean_date1', 'img_red_std_date1', 'img_green_std_date1',\n",
    "       'img_blue_std_date1', 'img_red_mean_date2', 'img_green_mean_date2',\n",
    "       'img_blue_mean_date2', 'img_red_std_date2', 'img_green_std_date2',\n",
    "       'img_blue_std_date2', 'img_red_mean_date3', 'img_green_mean_date3',\n",
    "       'img_blue_mean_date3', 'img_red_std_date3', 'img_green_std_date3',\n",
    "       'img_blue_std_date3', 'img_red_mean_date4', 'img_green_mean_date4',\n",
    "       'img_blue_mean_date4', 'img_red_std_date4', 'img_green_std_date4',\n",
    "       'img_blue_std_date4', 'img_red_mean_date5', 'img_green_mean_date5',\n",
    "       'img_blue_mean_date5', 'img_red_std_date5', 'img_green_std_date5',\n",
    "       'img_blue_std_date5', 'change_status_date0', 'change_status_date1',\n",
    "       'change_status_date2', 'change_status_date3', 'change_status_date4',\n",
    "       'delta1', 'delta2', 'delta3', 'delta4', 't0', 'centroid_x',\n",
    "       'centroid_y', 'perimeter', 'n_sides']]\n",
    "\n",
    "y_train_new = data['change_type']\n",
    "\n",
    "\n",
    "# Initialize the Random Forest classifier using default parameter \n",
    "rf_classifier_new = RandomForestClassifier(random_state=42)\n",
    "\n",
    "# Train the model on the training data\n",
    "rf_classifier_new.fit(X_train_new, y_train_new)\n",
    "\n",
    "# Predict the target variable on the test data\n",
    "y_pred_new = rf_classifier_new.predict(X_test[['img_red_mean_date1', 'img_green_mean_date1',\n",
    "       'img_blue_mean_date1', 'img_red_std_date1', 'img_green_std_date1',\n",
    "       'img_blue_std_date1', 'img_red_mean_date2', 'img_green_mean_date2',\n",
    "       'img_blue_mean_date2', 'img_red_std_date2', 'img_green_std_date2',\n",
    "       'img_blue_std_date2', 'img_red_mean_date3', 'img_green_mean_date3',\n",
    "       'img_blue_mean_date3', 'img_red_std_date3', 'img_green_std_date3',\n",
    "       'img_blue_std_date3', 'img_red_mean_date4', 'img_green_mean_date4',\n",
    "       'img_blue_mean_date4', 'img_red_std_date4', 'img_green_std_date4',\n",
    "       'img_blue_std_date4', 'img_red_mean_date5', 'img_green_mean_date5',\n",
    "       'img_blue_mean_date5', 'img_red_std_date5', 'img_green_std_date5',\n",
    "       'img_blue_std_date5', 'change_status_date0', 'change_status_date1',\n",
    "       'change_status_date2', 'change_status_date3', 'change_status_date4',\n",
    "       'delta1', 'delta2', 'delta3', 'delta4', 't0', 'centroid_x',\n",
    "       'centroid_y', 'perimeter', 'n_sides']])\n",
    "\n"
   ]
  },
  {
   "cell_type": "code",
   "execution_count": 55,
   "metadata": {},
   "outputs": [],
   "source": [
    "pred_df_new = pd.DataFrame(y_pred_new, columns=['change_type'])\n",
    "pred_df_new.to_csv(\"RF_new_sample_submission.csv\", index=True, index_label='Id')"
   ]
  },
  {
   "cell_type": "markdown",
   "metadata": {},
   "source": [
    "Accuracy : ~0.5"
   ]
  },
  {
   "cell_type": "markdown",
   "metadata": {},
   "source": [
    "**Random Forest : Parameters tuning**"
   ]
  },
  {
   "cell_type": "code",
   "execution_count": null,
   "metadata": {},
   "outputs": [],
   "source": [
    "from sklearn.model_selection import GridSearchCV\n",
    "from sklearn.ensemble import RandomForestClassifier\n",
    "\n",
    "# parameters of  grid to search\n",
    "\n",
    "param_grid = {\n",
    "    'n_estimators': [100, 200, 300],  # Number of trees in the forest\n",
    "    'max_depth': [None, 10, 20],       # Maximum depth of the trees\n",
    "    'min_samples_split': [2, 5, 10],    # Minimum number of samples required to split a node\n",
    "    'min_samples_leaf': [1, 2, 4]       # Minimum number of samples required at each leaf node\n",
    "}\n",
    "\n",
    "# Instantiate the RandomForestClassifier\n",
    "rf_classifier = RandomForestClassifier()\n",
    "\n",
    "# Instantiate the GridSearchCV object\n",
    "grid_search = GridSearchCV(estimator=rf_classifier, param_grid=param_grid, cv=4, scoring='accuracy')\n",
    "\n",
    "# Perform grid search on the training data\n",
    "grid_search.fit(X_train, y_train)\n",
    "\n",
    "# Print the best parameters found\n",
    "print(\"Best parameters:\", grid_search.best_params_)  \n",
    "\n",
    "# Print the best cross-validation score found\n",
    "print(\"Best cross-validation score:\", grid_search.best_score_)"
   ]
  },
  {
   "cell_type": "markdown",
   "metadata": {},
   "source": [
    "We find that the default parameters of the random forest classifier in the scikit-learn library yield the best results.These default parameters typically include 'n_estimators=100, max_depth=None, min_samples_split=2, min_samples_leaf=1"
   ]
  },
  {
   "cell_type": "markdown",
   "metadata": {},
   "source": [
    "## 3. Neural Networks"
   ]
  },
  {
   "cell_type": "code",
   "execution_count": null,
   "metadata": {},
   "outputs": [],
   "source": [
    "import torch\n",
    "import torch.nn as nn\n",
    "import torch.optim as optim\n",
    "from torch.utils.data import TensorDataset, DataLoader\n",
    "from sklearn.datasets import make_classification\n",
    "from sklearn.model_selection import train_test_split\n",
    "from sklearn.metrics import accuracy_score\n",
    "import torch.nn.functional as F\n",
    "from sklearn.preprocessing import MinMaxScaler"
   ]
  },
  {
   "cell_type": "code",
   "execution_count": null,
   "metadata": {},
   "outputs": [],
   "source": [
    "# Créer un objet MinMaxScaler\n",
    "scaler = MinMaxScaler()\n",
    "\n",
    "# Normaliser les données\n",
    "df_train=train_df.drop(columns=['change_type'])\n",
    "df_train_normalized = scaler.fit_transform(df_train)\n",
    "\n",
    "# Créer un DataFrame pandas avec les données normalisées\n",
    "train_normalized_df = pd.DataFrame(df_train_normalized, columns=df_train.columns)"
   ]
  },
  {
   "cell_type": "code",
   "execution_count": null,
   "metadata": {},
   "outputs": [],
   "source": [
    "# Normaliser les données\n",
    "df_test=test_df.copy()\n",
    "df_test_normalized = scaler.fit_transform(df_test)\n",
    "\n",
    "# Créer un DataFrame pandas avec les données normalisées\n",
    "test_normalized_df = pd.DataFrame(df_test_normalized, columns=df_test.columns)"
   ]
  },
  {
   "cell_type": "markdown",
   "metadata": {},
   "source": [
    "# Fine tuning "
   ]
  }
 ],
 "metadata": {
  "kernelspec": {
   "display_name": "Python 3",
   "language": "python",
   "name": "python3"
  },
  "language_info": {
   "codemirror_mode": {
    "name": "ipython",
    "version": 3
   },
   "file_extension": ".py",
   "mimetype": "text/x-python",
   "name": "python",
   "nbconvert_exporter": "python",
   "pygments_lexer": "ipython3",
   "version": "3.10.9"
  }
 },
 "nbformat": 4,
 "nbformat_minor": 2
}
